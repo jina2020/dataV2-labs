{
 "cells": [
  {
   "cell_type": "code",
   "execution_count": 14,
   "metadata": {},
   "outputs": [],
   "source": [
    "class List:\n",
    "    #def __init__(self):\n",
    "    def remove_(self, list_base, list_remove):\n",
    "        return [l for l in list_base if l not in list_remove]"
   ]
  },
  {
   "cell_type": "code",
   "execution_count": 18,
   "metadata": {},
   "outputs": [
    {
     "name": "stdout",
     "output_type": "stream",
     "text": [
      "True\n",
      "[2, 2, 4]\n",
      "True\n",
      "[2, 2, 4, 4, 5, 6, 7, 2, 8]\n",
      "True\n",
      "[8, 2, 7, 2, 4, 6, 5, 4, 4, 2]\n"
     ]
    }
   ],
   "source": [
    "l = List()\n",
    "\n",
    "integer_list =  [1, 1, 2 ,3 ,1 ,2 ,3 ,4]\n",
    "values_list = [1, 3]\n",
    "print(l.remove_(integer_list, values_list) == [2, 2, 4])\n",
    "print(l.remove_(integer_list, values_list))\n",
    "\n",
    "integer_list = [1, 1, 2 ,3 ,1 ,2 ,3 ,4, 4, 3 ,5, 6, 7, 2, 8]\n",
    "lst = [1, 3, 4, 2]\n",
    "print(l.remove_(integer_list, lst) == [5, 6 ,7 ,8])\n",
    "print(l.remove_(integer_list, values_list))\n",
    "\n",
    "integer_list = [8, 2, 7, 2, 3, 4, 6, 5, 4, 4, 1, 2 , 3]\n",
    "lst = [2, 4, 3]\n",
    "print(l.remove_(integer_list, lst) == [8, 7, 6, 5, 1])\n",
    "print(l.remove_(integer_list, values_list))"
   ]
  },
  {
   "cell_type": "code",
   "execution_count": null,
   "metadata": {},
   "outputs": [],
   "source": []
  }
 ],
 "metadata": {
  "kernelspec": {
   "display_name": "Python 3",
   "language": "python",
   "name": "python3"
  },
  "language_info": {
   "codemirror_mode": {
    "name": "ipython",
    "version": 3
   },
   "file_extension": ".py",
   "mimetype": "text/x-python",
   "name": "python",
   "nbconvert_exporter": "python",
   "pygments_lexer": "ipython3",
   "version": "3.7.6"
  }
 },
 "nbformat": 4,
 "nbformat_minor": 4
}
