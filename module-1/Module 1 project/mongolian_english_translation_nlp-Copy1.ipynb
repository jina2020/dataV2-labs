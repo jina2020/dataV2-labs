{
 "cells": [
  {
   "cell_type": "code",
   "execution_count": 2,
   "metadata": {},
   "outputs": [],
   "source": [
    "import pandas as pd\n",
    "data = pd.read_csv (r'.\\mandukhai_emoji.csv')\n",
    "df = pd.DataFrame(data) #, columns= ['text']"
   ]
  },
  {
   "cell_type": "code",
   "execution_count": 3,
   "metadata": {},
   "outputs": [],
   "source": [
    "import googletrans\n",
    "from googletrans import Translator"
   ]
  },
  {
   "cell_type": "code",
   "execution_count": 16,
   "metadata": {},
   "outputs": [
    {
     "data": {
      "text/html": [
       "<div>\n",
       "<style scoped>\n",
       "    .dataframe tbody tr th:only-of-type {\n",
       "        vertical-align: middle;\n",
       "    }\n",
       "\n",
       "    .dataframe tbody tr th {\n",
       "        vertical-align: top;\n",
       "    }\n",
       "\n",
       "    .dataframe thead th {\n",
       "        text-align: right;\n",
       "    }\n",
       "</style>\n",
       "<table border=\"1\" class=\"dataframe\">\n",
       "  <thead>\n",
       "    <tr style=\"text-align: right;\">\n",
       "      <th></th>\n",
       "      <th>Unnamed: 0</th>\n",
       "      <th>text</th>\n",
       "      <th>emoji</th>\n",
       "      <th>risk</th>\n",
       "      <th>topic_follow_up</th>\n",
       "    </tr>\n",
       "  </thead>\n",
       "  <tbody>\n",
       "    <tr>\n",
       "      <th>0</th>\n",
       "      <td>0</td>\n",
       "      <td>Яг одоогоор харилцаа үүсгэх бодолгүй байгаа гэ...</td>\n",
       "      <td>thinking</td>\n",
       "      <td>0.0</td>\n",
       "      <td>Үерхлийн талаар өөр ямар мэдээлэл авахыг хүсэж...</td>\n",
       "    </tr>\n",
       "    <tr>\n",
       "      <th>1</th>\n",
       "      <td>1</td>\n",
       "      <td>Сарын тэмдгийн үед хэрэглэх ариун цэврийн хэрэ...</td>\n",
       "      <td>none</td>\n",
       "      <td>0.0</td>\n",
       "      <td>Сарын тэмдгийн талаар өөр ямар мэдээлэл авахы...</td>\n",
       "    </tr>\n",
       "    <tr>\n",
       "      <th>2</th>\n",
       "      <td>2</td>\n",
       "      <td>Жирэмслэхээс сэргийлэх эмийн найрлага дахь даа...</td>\n",
       "      <td>thinking</td>\n",
       "      <td>0.0</td>\n",
       "      <td>Жирэмслэлтээс хамгаалах аргын талаар өөр ямар ...</td>\n",
       "    </tr>\n",
       "    <tr>\n",
       "      <th>3</th>\n",
       "      <td>3</td>\n",
       "      <td>Та 2 ярилцах нь хамгийн чухал. Ярилцаж асуухаа...</td>\n",
       "      <td>thinking</td>\n",
       "      <td>0.0</td>\n",
       "      <td>Үерхлийн талаар өөр ямар мэдээлэл авахыг хүсэж...</td>\n",
       "    </tr>\n",
       "    <tr>\n",
       "      <th>4</th>\n",
       "      <td>4</td>\n",
       "      <td>Хооллолтын гэр зөвлөмж гээд байдаг ш дээ, 10-н...</td>\n",
       "      <td>thinking</td>\n",
       "      <td>0.0</td>\n",
       "      <td>nan</td>\n",
       "    </tr>\n",
       "    <tr>\n",
       "      <th>...</th>\n",
       "      <td>...</td>\n",
       "      <td>...</td>\n",
       "      <td>...</td>\n",
       "      <td>...</td>\n",
       "      <td>...</td>\n",
       "    </tr>\n",
       "    <tr>\n",
       "      <th>9803</th>\n",
       "      <td>9803</td>\n",
       "      <td>Чи их зөв асуулт асуулаа. Тамхи татах нь огтхо...</td>\n",
       "      <td>warning</td>\n",
       "      <td>0.0</td>\n",
       "      <td>Хорт зуршил, мансууруулах бодисын талаар ямар ...</td>\n",
       "    </tr>\n",
       "    <tr>\n",
       "      <th>9804</th>\n",
       "      <td>9804</td>\n",
       "      <td>Сайн суралцах хэрэгтэй.Өөрийгөө олон талаар хө...</td>\n",
       "      <td>goodluck</td>\n",
       "      <td>0.0</td>\n",
       "      <td>Өөр ямар асуулт асуумаар байна вэ?</td>\n",
       "    </tr>\n",
       "    <tr>\n",
       "      <th>9805</th>\n",
       "      <td>9805</td>\n",
       "      <td>Энэ нь өгсөх замын халдвар авахаас сэргийлж бо...</td>\n",
       "      <td>thinking</td>\n",
       "      <td>1.0</td>\n",
       "      <td>Бэлгийн харилцааны талаарх өөр ямар мэдээлэл а...</td>\n",
       "    </tr>\n",
       "    <tr>\n",
       "      <th>9806</th>\n",
       "      <td>9806</td>\n",
       "      <td>Хэрвээ тэр гэртээ ганцаараа чамайг дуудаж байг...</td>\n",
       "      <td>warning</td>\n",
       "      <td>2.0</td>\n",
       "      <td>Өөр ямар асуулт асуумаар байна вэ?</td>\n",
       "    </tr>\n",
       "    <tr>\n",
       "      <th>9807</th>\n",
       "      <td>9807</td>\n",
       "      <td>Найз чинь маш их зориг, сэтгэлийн тэвчээр гарг...</td>\n",
       "      <td>none</td>\n",
       "      <td>1.0</td>\n",
       "      <td>Бэлгийн чиг хандлага болон хүйсийн чиг хандлаг...</td>\n",
       "    </tr>\n",
       "  </tbody>\n",
       "</table>\n",
       "<p>9808 rows × 5 columns</p>\n",
       "</div>"
      ],
      "text/plain": [
       "     Unnamed: 0                                               text     emoji  \\\n",
       "0             0  Яг одоогоор харилцаа үүсгэх бодолгүй байгаа гэ...  thinking   \n",
       "1             1  Сарын тэмдгийн үед хэрэглэх ариун цэврийн хэрэ...      none   \n",
       "2             2  Жирэмслэхээс сэргийлэх эмийн найрлага дахь даа...  thinking   \n",
       "3             3  Та 2 ярилцах нь хамгийн чухал. Ярилцаж асуухаа...  thinking   \n",
       "4             4  Хооллолтын гэр зөвлөмж гээд байдаг ш дээ, 10-н...  thinking   \n",
       "...         ...                                                ...       ...   \n",
       "9803       9803  Чи их зөв асуулт асуулаа. Тамхи татах нь огтхо...   warning   \n",
       "9804       9804  Сайн суралцах хэрэгтэй.Өөрийгөө олон талаар хө...  goodluck   \n",
       "9805       9805  Энэ нь өгсөх замын халдвар авахаас сэргийлж бо...  thinking   \n",
       "9806       9806  Хэрвээ тэр гэртээ ганцаараа чамайг дуудаж байг...   warning   \n",
       "9807       9807  Найз чинь маш их зориг, сэтгэлийн тэвчээр гарг...      none   \n",
       "\n",
       "     risk                                    topic_follow_up  \n",
       "0     0.0  Үерхлийн талаар өөр ямар мэдээлэл авахыг хүсэж...  \n",
       "1     0.0   Сарын тэмдгийн талаар өөр ямар мэдээлэл авахы...  \n",
       "2     0.0  Жирэмслэлтээс хамгаалах аргын талаар өөр ямар ...  \n",
       "3     0.0  Үерхлийн талаар өөр ямар мэдээлэл авахыг хүсэж...  \n",
       "4     0.0                                                nan  \n",
       "...   ...                                                ...  \n",
       "9803  0.0  Хорт зуршил, мансууруулах бодисын талаар ямар ...  \n",
       "9804  0.0                 Өөр ямар асуулт асуумаар байна вэ?  \n",
       "9805  1.0  Бэлгийн харилцааны талаарх өөр ямар мэдээлэл а...  \n",
       "9806  2.0                 Өөр ямар асуулт асуумаар байна вэ?  \n",
       "9807  1.0  Бэлгийн чиг хандлага болон хүйсийн чиг хандлаг...  \n",
       "\n",
       "[9808 rows x 5 columns]"
      ]
     },
     "execution_count": 16,
     "metadata": {},
     "output_type": "execute_result"
    }
   ],
   "source": [
    "df[\"text\"] = df[\"text\"].astype(str)\n",
    "df[\"Unnamed: 0\"] = df[\"Unnamed: 0\"].astype(str)\n",
    "df[\"emoji\"] = df[\"emoji\"].astype(str)\n",
    "df[\"risk\"] = df[\"risk\"].astype(str)\n",
    "df[\"topic_follow_up\"] = df[\"topic_follow_up\"].astype(str)\n",
    "df"
   ]
  },
  {
   "cell_type": "code",
   "execution_count": 29,
   "metadata": {},
   "outputs": [
    {
     "data": {
      "text/plain": [
       "0       0;Яг одоогоор харилцаа үүсгэх бодолгүй байгаа ...\n",
       "1       1;Сарын тэмдгийн үед хэрэглэх ариун цэврийн хэ...\n",
       "2       2;Жирэмслэхээс сэргийлэх эмийн найрлага дахь д...\n",
       "3       3;Та 2 ярилцах нь хамгийн чухал. Ярилцаж асуух...\n",
       "4       4;Хооллолтын гэр зөвлөмж гээд байдаг ш дээ, 10...\n",
       "                              ...                        \n",
       "9803    9803;Чи их зөв асуулт асуулаа. Тамхи татах нь ...\n",
       "9804    9804;Сайн суралцах хэрэгтэй.Өөрийгөө олон тала...\n",
       "9805    9805;Энэ нь өгсөх замын халдвар авахаас сэргий...\n",
       "9806    9806;Хэрвээ тэр гэртээ ганцаараа чамайг дуудаж...\n",
       "9807    9807;Найз чинь маш их зориг, сэтгэлийн тэвчээр...\n",
       "Length: 9808, dtype: object"
      ]
     },
     "execution_count": 29,
     "metadata": {},
     "output_type": "execute_result"
    }
   ],
   "source": [
    "mylist = df[['Unnamed: 0', 'text', 'emoji', 'risk', 'topic_follow_up']].agg(';'.join, axis=1)\n",
    "mylist"
   ]
  },
  {
   "cell_type": "code",
   "execution_count": 32,
   "metadata": {
    "scrolled": true
   },
   "outputs": [
    {
     "ename": "ValueError",
     "evalue": "Lengths must match to compare",
     "output_type": "error",
     "traceback": [
      "\u001b[1;31m---------------------------------------------------------------------------\u001b[0m",
      "\u001b[1;31mValueError\u001b[0m                                Traceback (most recent call last)",
      "\u001b[1;32m<ipython-input-32-887c3b531e43>\u001b[0m in \u001b[0;36m<module>\u001b[1;34m\u001b[0m\n\u001b[0;32m      1\u001b[0m \u001b[0mtranslator\u001b[0m \u001b[1;33m=\u001b[0m \u001b[0mTranslator\u001b[0m\u001b[1;33m(\u001b[0m\u001b[1;33m)\u001b[0m\u001b[1;33m\u001b[0m\u001b[1;33m\u001b[0m\u001b[0m\n\u001b[1;32m----> 2\u001b[1;33m \u001b[0mtranslated_text\u001b[0m \u001b[1;33m=\u001b[0m \u001b[0mtranslator\u001b[0m\u001b[1;33m.\u001b[0m\u001b[0mtranslate\u001b[0m\u001b[1;33m(\u001b[0m\u001b[0mmylist\u001b[0m\u001b[1;33m[\u001b[0m\u001b[1;36m1\u001b[0m\u001b[1;33m:\u001b[0m\u001b[1;36m3\u001b[0m\u001b[1;33m]\u001b[0m\u001b[1;33m,\u001b[0m \u001b[0msrc\u001b[0m\u001b[1;33m=\u001b[0m\u001b[1;34m'mn'\u001b[0m\u001b[1;33m,\u001b[0m \u001b[0mdest\u001b[0m\u001b[1;33m=\u001b[0m\u001b[1;34m'en'\u001b[0m\u001b[1;33m)\u001b[0m\u001b[1;33m\u001b[0m\u001b[1;33m\u001b[0m\u001b[0m\n\u001b[0m\u001b[0;32m      3\u001b[0m \u001b[0mtranslated_text\u001b[0m\u001b[1;33m.\u001b[0m\u001b[0mtext\u001b[0m\u001b[1;33m\u001b[0m\u001b[1;33m\u001b[0m\u001b[0m\n",
      "\u001b[1;32m~\\anaconda3\\lib\\site-packages\\googletrans\\client.py\u001b[0m in \u001b[0;36mtranslate\u001b[1;34m(self, text, dest, src, **kwargs)\u001b[0m\n\u001b[0;32m    234\u001b[0m                 \u001b[1;32mpass\u001b[0m\u001b[1;33m\u001b[0m\u001b[1;33m\u001b[0m\u001b[0m\n\u001b[0;32m    235\u001b[0m \u001b[1;33m\u001b[0m\u001b[0m\n\u001b[1;32m--> 236\u001b[1;33m         \u001b[1;32mif\u001b[0m \u001b[0mdest\u001b[0m \u001b[1;32min\u001b[0m \u001b[0mEXCLUDES\u001b[0m \u001b[1;32mand\u001b[0m \u001b[0mpron\u001b[0m \u001b[1;33m==\u001b[0m \u001b[0morigin\u001b[0m\u001b[1;33m:\u001b[0m\u001b[1;33m\u001b[0m\u001b[1;33m\u001b[0m\u001b[0m\n\u001b[0m\u001b[0;32m    237\u001b[0m             \u001b[0mpron\u001b[0m \u001b[1;33m=\u001b[0m \u001b[0mtranslated\u001b[0m\u001b[1;33m\u001b[0m\u001b[1;33m\u001b[0m\u001b[0m\n\u001b[0;32m    238\u001b[0m \u001b[1;33m\u001b[0m\u001b[0m\n",
      "\u001b[1;32m~\\anaconda3\\lib\\site-packages\\pandas\\core\\ops\\common.py\u001b[0m in \u001b[0;36mnew_method\u001b[1;34m(self, other)\u001b[0m\n\u001b[0;32m     62\u001b[0m         \u001b[0mother\u001b[0m \u001b[1;33m=\u001b[0m \u001b[0mitem_from_zerodim\u001b[0m\u001b[1;33m(\u001b[0m\u001b[0mother\u001b[0m\u001b[1;33m)\u001b[0m\u001b[1;33m\u001b[0m\u001b[1;33m\u001b[0m\u001b[0m\n\u001b[0;32m     63\u001b[0m \u001b[1;33m\u001b[0m\u001b[0m\n\u001b[1;32m---> 64\u001b[1;33m         \u001b[1;32mreturn\u001b[0m \u001b[0mmethod\u001b[0m\u001b[1;33m(\u001b[0m\u001b[0mself\u001b[0m\u001b[1;33m,\u001b[0m \u001b[0mother\u001b[0m\u001b[1;33m)\u001b[0m\u001b[1;33m\u001b[0m\u001b[1;33m\u001b[0m\u001b[0m\n\u001b[0m\u001b[0;32m     65\u001b[0m \u001b[1;33m\u001b[0m\u001b[0m\n\u001b[0;32m     66\u001b[0m     \u001b[1;32mreturn\u001b[0m \u001b[0mnew_method\u001b[0m\u001b[1;33m\u001b[0m\u001b[1;33m\u001b[0m\u001b[0m\n",
      "\u001b[1;32m~\\anaconda3\\lib\\site-packages\\pandas\\core\\ops\\__init__.py\u001b[0m in \u001b[0;36mwrapper\u001b[1;34m(self, other)\u001b[0m\n\u001b[0;32m    524\u001b[0m         \u001b[0mrvalues\u001b[0m \u001b[1;33m=\u001b[0m \u001b[0mextract_array\u001b[0m\u001b[1;33m(\u001b[0m\u001b[0mother\u001b[0m\u001b[1;33m,\u001b[0m \u001b[0mextract_numpy\u001b[0m\u001b[1;33m=\u001b[0m\u001b[1;32mTrue\u001b[0m\u001b[1;33m)\u001b[0m\u001b[1;33m\u001b[0m\u001b[1;33m\u001b[0m\u001b[0m\n\u001b[0;32m    525\u001b[0m \u001b[1;33m\u001b[0m\u001b[0m\n\u001b[1;32m--> 526\u001b[1;33m         \u001b[0mres_values\u001b[0m \u001b[1;33m=\u001b[0m \u001b[0mcomparison_op\u001b[0m\u001b[1;33m(\u001b[0m\u001b[0mlvalues\u001b[0m\u001b[1;33m,\u001b[0m \u001b[0mrvalues\u001b[0m\u001b[1;33m,\u001b[0m \u001b[0mop\u001b[0m\u001b[1;33m)\u001b[0m\u001b[1;33m\u001b[0m\u001b[1;33m\u001b[0m\u001b[0m\n\u001b[0m\u001b[0;32m    527\u001b[0m \u001b[1;33m\u001b[0m\u001b[0m\n\u001b[0;32m    528\u001b[0m         \u001b[1;32mreturn\u001b[0m \u001b[0m_construct_result\u001b[0m\u001b[1;33m(\u001b[0m\u001b[0mself\u001b[0m\u001b[1;33m,\u001b[0m \u001b[0mres_values\u001b[0m\u001b[1;33m,\u001b[0m \u001b[0mindex\u001b[0m\u001b[1;33m=\u001b[0m\u001b[0mself\u001b[0m\u001b[1;33m.\u001b[0m\u001b[0mindex\u001b[0m\u001b[1;33m,\u001b[0m \u001b[0mname\u001b[0m\u001b[1;33m=\u001b[0m\u001b[0mres_name\u001b[0m\u001b[1;33m)\u001b[0m\u001b[1;33m\u001b[0m\u001b[1;33m\u001b[0m\u001b[0m\n",
      "\u001b[1;32m~\\anaconda3\\lib\\site-packages\\pandas\\core\\ops\\array_ops.py\u001b[0m in \u001b[0;36mcomparison_op\u001b[1;34m(left, right, op)\u001b[0m\n\u001b[0;32m    232\u001b[0m         \u001b[1;31m#  The ambiguous case is object-dtype.  See GH#27803\u001b[0m\u001b[1;33m\u001b[0m\u001b[1;33m\u001b[0m\u001b[1;33m\u001b[0m\u001b[0m\n\u001b[0;32m    233\u001b[0m         \u001b[1;32mif\u001b[0m \u001b[0mlen\u001b[0m\u001b[1;33m(\u001b[0m\u001b[0mlvalues\u001b[0m\u001b[1;33m)\u001b[0m \u001b[1;33m!=\u001b[0m \u001b[0mlen\u001b[0m\u001b[1;33m(\u001b[0m\u001b[0mrvalues\u001b[0m\u001b[1;33m)\u001b[0m\u001b[1;33m:\u001b[0m\u001b[1;33m\u001b[0m\u001b[1;33m\u001b[0m\u001b[0m\n\u001b[1;32m--> 234\u001b[1;33m             \u001b[1;32mraise\u001b[0m \u001b[0mValueError\u001b[0m\u001b[1;33m(\u001b[0m\u001b[1;34m\"Lengths must match to compare\"\u001b[0m\u001b[1;33m)\u001b[0m\u001b[1;33m\u001b[0m\u001b[1;33m\u001b[0m\u001b[0m\n\u001b[0m\u001b[0;32m    235\u001b[0m \u001b[1;33m\u001b[0m\u001b[0m\n\u001b[0;32m    236\u001b[0m     \u001b[1;32mif\u001b[0m \u001b[0mshould_extension_dispatch\u001b[0m\u001b[1;33m(\u001b[0m\u001b[0mlvalues\u001b[0m\u001b[1;33m,\u001b[0m \u001b[0mrvalues\u001b[0m\u001b[1;33m)\u001b[0m\u001b[1;33m:\u001b[0m\u001b[1;33m\u001b[0m\u001b[1;33m\u001b[0m\u001b[0m\n",
      "\u001b[1;31mValueError\u001b[0m: Lengths must match to compare"
     ]
    }
   ],
   "source": [
    "translator = Translator()\n",
    "translated_text = translator.translate(mylist[1], src='mn', dest='en')\n",
    "translated_text.text"
   ]
  },
  {
   "cell_type": "code",
   "execution_count": 31,
   "metadata": {},
   "outputs": [],
   "source": [
    "with open('translated.csv', 'w') as f:\n",
    "    f.write(translated_text.text + '\\n')"
   ]
  },
  {
   "cell_type": "code",
   "execution_count": 123,
   "metadata": {},
   "outputs": [],
   "source": [
    "import nltk"
   ]
  },
  {
   "cell_type": "code",
   "execution_count": 124,
   "metadata": {},
   "outputs": [
    {
     "name": "stdout",
     "output_type": "stream",
     "text": [
      "[nltk_data] Downloading package twitter_samples to\n",
      "[nltk_data]     C:\\Users\\admin\\AppData\\Roaming\\nltk_data...\n",
      "[nltk_data]   Unzipping corpora\\twitter_samples.zip.\n"
     ]
    },
    {
     "data": {
      "text/plain": [
       "True"
      ]
     },
     "execution_count": 124,
     "metadata": {},
     "output_type": "execute_result"
    }
   ],
   "source": [
    "nltk.download('twitter_samples')"
   ]
  }
 ],
 "metadata": {
  "kernelspec": {
   "display_name": "Python 3",
   "language": "python",
   "name": "python3"
  },
  "language_info": {
   "codemirror_mode": {
    "name": "ipython",
    "version": 3
   },
   "file_extension": ".py",
   "mimetype": "text/x-python",
   "name": "python",
   "nbconvert_exporter": "python",
   "pygments_lexer": "ipython3",
   "version": "3.7.6"
  }
 },
 "nbformat": 4,
 "nbformat_minor": 4
}
