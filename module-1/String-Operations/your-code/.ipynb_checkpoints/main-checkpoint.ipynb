{
 "cells": [
  {
   "cell_type": "markdown",
   "metadata": {},
   "source": [
    "# Before your start:\n",
    "- Read the README.md file\n",
    "- Comment as much as you can and use the resources in the README.md file\n",
    "- Happy learning!"
   ]
  },
  {
   "cell_type": "code",
   "execution_count": 1,
   "metadata": {},
   "outputs": [],
   "source": [
    "import re"
   ]
  },
  {
   "cell_type": "markdown",
   "metadata": {},
   "source": [
    "# Challenge 1 - Combining Strings\n",
    "\n",
    "Combining strings is an important skill to acquire. There are multiple ways of combining strings in Python, as well as combining strings with variables. We will explore this in the first challenge. In the cell below, combine the strings in the list and add spaces between the strings (do not add a space after the last string). Insert a period after the last string."
   ]
  },
  {
   "cell_type": "code",
   "execution_count": 2,
   "metadata": {},
   "outputs": [
    {
     "data": {
      "text/plain": [
       "'Durante un tiempo no estuvo segura de si su marido era su marido.'"
      ]
     },
     "execution_count": 2,
     "metadata": {},
     "output_type": "execute_result"
    }
   ],
   "source": [
    "str_list = ['Durante', 'un', 'tiempo', 'no', 'estuvo', 'segura', 'de', 'si', 'su', 'marido', 'era', 'su', 'marido']\n",
    "# Your code here:\n",
    "' '.join(str_list) + '.'\n"
   ]
  },
  {
   "cell_type": "markdown",
   "metadata": {},
   "source": [
    "In the cell below, use the list of strings to create a grocery list. Start the list with the string `Grocery list: ` and include a comma and a space between each item except for the last one. Include a period at the end. Only include foods in the list that start with the letter 'b' and ensure all foods are lower case."
   ]
  },
  {
   "cell_type": "code",
   "execution_count": 3,
   "metadata": {},
   "outputs": [
    {
     "name": "stdout",
     "output_type": "stream",
     "text": [
      "Grocery list : bananas,bread,brownie mix,broccoli\n"
     ]
    },
    {
     "data": {
      "text/plain": [
       "\"\\nfood_list = ['Bananas', 'Chocolate', 'bread', 'diapers', 'Ice Cream', 'Brownie Mix', 'broccoli']\\n# Your code here:\\ngroceries = [i.lower() for i in food_list if i.lower().startswith('b')]\\ngrocery_list = 'Grocery list: ' + ', '.join(groceries) + '.'\\nprint(grocery_list)\\n\""
      ]
     },
     "execution_count": 3,
     "metadata": {},
     "output_type": "execute_result"
    }
   ],
   "source": [
    "food_list = ['Bananas', 'Chocolate', 'bread', 'diapers', 'Ice Cream', 'Brownie Mix', 'broccoli']\n",
    "# Your code here:\n",
    "text = \"Grocery list : \"\n",
    "#food_list_B = [lower(food_list).startswith('b')]\n",
    "food_list_lower = []\n",
    "for food in food_list:\n",
    "    if food.lower().startswith('b'):\n",
    "        food_list_lower.append(food.lower())\n",
    "print(text + ','.join(food_list_lower))  \n",
    "\n",
    "\"\"\"\n",
    "food_list = ['Bananas', 'Chocolate', 'bread', 'diapers', 'Ice Cream', 'Brownie Mix', 'broccoli']\n",
    "# Your code here:\n",
    "groceries = [i.lower() for i in food_list if i.lower().startswith('b')]\n",
    "grocery_list = 'Grocery list: ' + ', '.join(groceries) + '.'\n",
    "print(grocery_list)\n",
    "\"\"\""
   ]
  },
  {
   "cell_type": "markdown",
   "metadata": {},
   "source": [
    "In the cell below, write a function that computes the area of a circle using its radius. Compute the area of the circle and insert the radius and the area between the two strings. Make sure to include spaces between the variable and the strings. \n",
    "\n",
    "Note: You can use the techniques we have learned so far or use f-strings. F-strings allow us to embed code inside strings. You can read more about f-strings [here](https://www.python.org/dev/peps/pep-0498/)."
   ]
  },
  {
   "cell_type": "code",
   "execution_count": 4,
   "metadata": {},
   "outputs": [
    {
     "data": {
      "text/plain": [
       "'The area of the circle with radius: 5 is: 78.53981633974483.'"
      ]
     },
     "execution_count": 4,
     "metadata": {},
     "output_type": "execute_result"
    }
   ],
   "source": [
    "import math\n",
    "\n",
    "string1 = \"The area of the circle with radius:\"\n",
    "string2  = \"is:\"\n",
    "radius = 5\n",
    "\n",
    "def area(x, pi = math.pi):\n",
    "    \"\"\"\n",
    "    This function takes a radius and returns the area of a circle. \n",
    "    We also pass a default value for pi.\n",
    "    \n",
    "    Input: Float (and default value for pi)\n",
    "    Output: Float\n",
    "    \n",
    "    Sample input: 5.0\n",
    "    Sample Output: 78.53981633\n",
    "    \"\"\"\n",
    "    \n",
    "    # Your code here:\n",
    "    return pi * x**2\n",
    "    \n",
    "# Your output string here:\n",
    "#print(string1 + str(radius) + ' ' + string2 + ' ' + str(area(radius)))\n",
    "f\"{string1} {radius} {string2} {area(radius)}.\"\n"
   ]
  },
  {
   "cell_type": "markdown",
   "metadata": {},
   "source": [
    "# Challenge 2 - Splitting Strings\n",
    "\n",
    "We have first looked at combining strings into one long string. There are times where we need to do the opposite and split the string into smaller components for further analysis. \n",
    "\n",
    "In the cell below, split the string into a list of strings using the space delimiter. Count the frequency of each word in the string in a dictionary. Strip the periods, line breaks and commas from the text. Make sure to remove empty strings from your dictionary."
   ]
  },
  {
   "cell_type": "code",
   "execution_count": 5,
   "metadata": {},
   "outputs": [
    {
     "name": "stdout",
     "output_type": "stream",
     "text": [
      "{'suffice': 1, 'but': 0, 'it': 1, 'hate': 1, 'perish': 1, 'the': 1, 'i’ve': 0, 'hold': 1, 'of': 2, 'in': 2, 'will': 1, 'great': 1, 'is': 0, 'ice': 2, 'those': 1, 'had': 1, 'would': 1, 'think': 1, 'tasted': 1, 'end': 1, 'if': 1, 'enough': 1, 'that': 1, 'world': 1, 'say': 3, 'desire': 1, 'for': 1, 'from': 0, 'destruction': 1, 'with': 1, 'what': 1, 'favor': 1, 'twice': 1, 'who': 1, 'know': 1, 'also': 1, 'and': 0, 'to': 1, 'some': 0, 'fire': 2, 'i': 0}\n"
     ]
    },
    {
     "data": {
      "text/plain": [
       "'\\npoem_dict = {}\\npoem = poem.replace(\",\",\" \").replace(\".\",\" \").replace(\"\\n\",\" \")\\npoem_list = poem.split(\" \")\\npoem_list = [x.lower() for x in poem_list]\\npoem_set = set(poem_list)\\nfor element in poem_set:\\n    if element != \\'\\':\\n        poem_dict.update({element: poem_list.count(element)})\\nprint(poem_dict)\\n'"
      ]
     },
     "execution_count": 5,
     "metadata": {},
     "output_type": "execute_result"
    }
   ],
   "source": [
    "poem = \"\"\"Some say the world will end in fire,\n",
    "Some say in ice.\n",
    "From what I’ve tasted of desire\n",
    "I hold with those who favor fire.\n",
    "But if it had to perish twice,\n",
    "I think I know enough of hate\n",
    "To say that for destruction ice\n",
    "Is also great\n",
    "And would suffice.\"\"\"\n",
    "\n",
    "# Your code here:\n",
    "dictionary = {}\n",
    "\n",
    "poem = poem.replace(\",\",\" \").replace(\".\",\" \").replace(\"\\n\",\" \")\n",
    "poem_list = poem.split(\" \")\n",
    "poem_list_lower = []\n",
    "\n",
    "for element in poem_list:\n",
    "    poem_list_lower.append(element.lower())\n",
    "    \n",
    "poem_list_lower = set(poem_list_lower)\n",
    "\n",
    "for element in poem_list_lower:\n",
    "    if element != \"\":\n",
    "        dictionary.update({element : poem_list.count(element)})\n",
    "        \n",
    "print(dictionary)\n",
    "\n",
    "\"\"\"\n",
    "poem_dict = {}\n",
    "poem = poem.replace(\",\",\" \").replace(\".\",\" \").replace(\"\\n\",\" \")\n",
    "poem_list = poem.split(\" \")\n",
    "poem_list = [x.lower() for x in poem_list]\n",
    "poem_set = set(poem_list)\n",
    "for element in poem_set:\n",
    "    if element != '':\n",
    "        poem_dict.update({element: poem_list.count(element)})\n",
    "print(poem_dict)\n",
    "\"\"\""
   ]
  },
  {
   "cell_type": "markdown",
   "metadata": {},
   "source": [
    "In the cell below, find all the words that appear in the text and do not appear in the blacklist. You must parse the string but can choose any data structure you wish for the words that do not appear in the blacklist. Remove all non letter characters and convert all words to lower case."
   ]
  },
  {
   "cell_type": "code",
   "execution_count": 42,
   "metadata": {},
   "outputs": [
    {
     "name": "stdout",
     "output_type": "stream",
     "text": [
      "i was angry with my friend   i told my wrath  my wrath did end  i was angry with my foe:  i told  not  my wrath did grow     i waterd   fears  night   morning with my tears:   i sunned  with smiles   with soft deceitful wiles      grew both day  night   till  bore  apple bright    my foe beheld  shine   he knew that  was mine     into my garden stole   when  night had veild  pole     morning glad i see   my foe outstretched beneath  tree \n"
     ]
    },
    {
     "data": {
      "text/plain": [
       "\"\\nnon_letter_chars = ['\\n', ',', '.', ':', ';']\\nfor char in non_letter_chars:\\n    poem = poem.replace(char, ' ')\\npoem_lower = [word.lower() for word in poem.split()]\\nfor word in poem_lower:\\n    if word in blacklist:\\n        poem_lower.remove(word)\\nprint(' '.join(poem_lower))\\n\\n\\npoem_words = re.split('\\\\W\\\\s\\n', poem.lower())\\n# .replace('\\\\w', ' ')\\npoem_blacklisted = []\\nfor word in poem_words:\\n    if word not in blacklist:\\n        poem_blacklisted.append(word)\\nprint(' '.join(poem_blacklisted))\\n\""
      ]
     },
     "execution_count": 42,
     "metadata": {},
     "output_type": "execute_result"
    }
   ],
   "source": [
    "blacklist = ['and', 'as', 'an', 'a', 'the', 'in', 'it']\n",
    "\n",
    "poem = \"\"\"I was angry with my friend; \n",
    "I told my wrath, my wrath did end.\n",
    "I was angry with my foe: \n",
    "I told it not, my wrath did grow. \n",
    "\n",
    "And I waterd it in fears,\n",
    "Night & morning with my tears: \n",
    "And I sunned it with smiles,\n",
    "And with soft deceitful wiles. \n",
    "\n",
    "And it grew both day and night. \n",
    "Till it bore an apple bright. \n",
    "And my foe beheld it shine,\n",
    "And he knew that it was mine. \n",
    "\n",
    "And into my garden stole, \n",
    "When the night had veild the pole; \n",
    "In the morning glad I see; \n",
    "My foe outstretched beneath the tree.\"\"\"\n",
    "\n",
    "# Your code here:\n",
    "poem = re.sub(\"[ ,.;&\\n]\", \" \", poem)\n",
    "splitted_poem = re.split(' ', poem.lower())\n",
    "for word in blacklist:\n",
    "    for index, word_poem in enumerate(splitted_poem):\n",
    "        if word == word_poem:\n",
    "            splitted_poem[index] = \"\"\n",
    "splitted_poem = ' '.join(splitted_poem)\n",
    "print(splitted_poem)\n",
    "\n",
    "'''\n",
    "non_letter_chars = ['\\n', ',', '.', ':', ';']\n",
    "for char in non_letter_chars:\n",
    "    poem = poem.replace(char, ' ')\n",
    "poem_lower = [word.lower() for word in poem.split()]\n",
    "for word in poem_lower:\n",
    "    if word in blacklist:\n",
    "        poem_lower.remove(word)\n",
    "print(' '.join(poem_lower))\n",
    "\n",
    "\n",
    "poem_words = re.split('\\W\\s\\n', poem.lower())\n",
    "# .replace('\\w', ' ')\n",
    "poem_blacklisted = []\n",
    "for word in poem_words:\n",
    "    if word not in blacklist:\n",
    "        poem_blacklisted.append(word)\n",
    "print(' '.join(poem_blacklisted))\n",
    "'''"
   ]
  },
  {
   "cell_type": "markdown",
   "metadata": {},
   "source": [
    "# Challenge 3 - Regular Expressions\n",
    "\n",
    "Sometimes, we would like to perform more complex manipulations of our string. This is where regular expressions come in handy. In the cell below, return all characters that are upper case from the string specified below."
   ]
  },
  {
   "cell_type": "code",
   "execution_count": 51,
   "metadata": {
    "scrolled": true
   },
   "outputs": [
    {
     "name": "stdout",
     "output_type": "stream",
     "text": [
      "['T', 'P']\n"
     ]
    }
   ],
   "source": [
    "poem = \"\"\"The apparition of these faces in the crowd;\n",
    "Petals on a wet, black bough.\"\"\"\n",
    "\n",
    "# Your code here:\n",
    "letters = re.findall('[A-Z]', poem)\n",
    "print(letters)"
   ]
  },
  {
   "cell_type": "markdown",
   "metadata": {},
   "source": [
    "In the cell below, filter the list provided and return all elements of the list containing a number. To filter the list, use the `re.search` function. Check if the function does not return `None`. You can read more about the `re.search` function [here](https://docs.python.org/3/library/re.html)."
   ]
  },
  {
   "cell_type": "code",
   "execution_count": 73,
   "metadata": {},
   "outputs": [
    {
     "name": "stdout",
     "output_type": "stream",
     "text": [
      "['123abc', 'abc123', 'JohnSmith1', 'ABBY4']\n"
     ]
    }
   ],
   "source": [
    "data = ['123abc', 'abc123', 'JohnSmith1', 'ABBY4', 'JANE']\n",
    "\n",
    "# Your code here:\n",
    "data_value = []\n",
    "for d in data:\n",
    "    if re.search(r\"\\d+\", d):\n",
    "        data_value.append(d)\n",
    "print(data_value) "
   ]
  },
  {
   "cell_type": "markdown",
   "metadata": {},
   "source": [
    "# Bonus Challenge - Regular Expressions II\n",
    "\n",
    "In the cell below, filter the list provided to keep only strings containing at least one digit and at least one lower case letter. As in the previous question, use the `re.search` function and check that the result is not `None`.\n",
    "\n",
    "To read more about regular expressions, check out [this link](https://developers.google.com/edu/python/regular-expressions)."
   ]
  },
  {
   "cell_type": "code",
   "execution_count": 86,
   "metadata": {},
   "outputs": [
    {
     "name": "stdout",
     "output_type": "stream",
     "text": [
      "['123abc', 'abc123', 'JohnSmith1']\n"
     ]
    }
   ],
   "source": [
    "data = ['123abc', 'abc123', 'JohnSmith1', 'ABBY4', 'JANE']\n",
    "# Your code here:\n",
    "value = []\n",
    "for d in data:\n",
    "    if re.search(r\".*\\d.*[a-z].*|.*[a-z].*\\d.*\", d):\n",
    "        value.append(d)\n",
    "print(value) "
   ]
  },
  {
   "cell_type": "code",
   "execution_count": null,
   "metadata": {},
   "outputs": [],
   "source": []
  }
 ],
 "metadata": {
  "kernelspec": {
   "display_name": "Python 3",
   "language": "python",
   "name": "python3"
  },
  "language_info": {
   "codemirror_mode": {
    "name": "ipython",
    "version": 3
   },
   "file_extension": ".py",
   "mimetype": "text/x-python",
   "name": "python",
   "nbconvert_exporter": "python",
   "pygments_lexer": "ipython3",
   "version": "3.7.6"
  }
 },
 "nbformat": 4,
 "nbformat_minor": 2
}
